{
 "cells": [
  {
   "cell_type": "markdown",
   "id": "42f95c4a",
   "metadata": {},
   "source": [
    "# =========== ANÁLISIS DE MÉTRICAS ==========="
   ]
  },
  {
   "cell_type": "code",
   "execution_count": 163,
   "id": "47245e0c",
   "metadata": {},
   "outputs": [],
   "source": [
    "import pandas as pd\n",
    "import numpy as np\n",
    "import os\n",
    "\n",
    "files_path = \"data/\"\n",
    "\n",
    "# Eventos buscados para cada una de las metricas\n",
    "eventsOfMetrics = [[\"GAME_START\", \"GAME_END\", \"JUMP_START\", \"JUMP_END\"], \n",
    "                   [\"GAME_START\", \"GAME_END\", \"PLAYER_MOVE\"], \n",
    "                   [\"GAME_START\", \"GAME_END\", \"JUMP_START\", \"JUMP_END\"]\n",
    "                   ] \n",
    "\n",
    "numPlatforms = 24"
   ]
  },
  {
   "cell_type": "code",
   "execution_count": 164,
   "id": "b03f8593",
   "metadata": {},
   "outputs": [],
   "source": [
    "# Devuelve los datos leidos y el formato del archivo leido\n",
    "def ReadFile(archivo):\n",
    "    try:\n",
    "        # Intenta leer el archivo como JSON\n",
    "        data = pd.read_json(archivo)\n",
    "        # Devuelve una lista de diccionarios\n",
    "        return data.to_dict(orient='records'), 'json'\n",
    "    except ValueError:\n",
    "        try:\n",
    "            # Intenta leer el archivo como CSV\n",
    "            data = pd.read_csv(archivo)\n",
    "            return data, 'csv'\n",
    "        except Exception as e:\n",
    "            print(f\"No se pudo leer el archivo {archivo}:\", e)\n",
    "            return None, None"
   ]
  },
  {
   "cell_type": "code",
   "execution_count": 165,
   "id": "b186ff65",
   "metadata": {},
   "outputs": [],
   "source": [
    "# Filtra los eventos que se necesitan para la metrica que se va a medir\n",
    "def FilterEventsOfMetric(data, file_type, events):\n",
    "\n",
    "    if file_type == 'csv':\n",
    "        if 'eventType' in data.columns:\n",
    "            filtered_data = data[data['eventType'].isin(events)]\n",
    "            sorted_data = filtered_data.sort_values(by='timeStamp')\n",
    "            return sorted_data\n",
    "        else:\n",
    "            print(\"La columna 'eventType' no está presente en el DataFrame CSV.\")\n",
    "            return None\n",
    "        \n",
    "    elif file_type == 'json':\n",
    "        #Comprobar que es una lista de diccionarios\n",
    "        if isinstance(data, list):      \n",
    "            filtered_events = [event for event in data if event.get('eventType') in events]\n",
    "            if filtered_events:\n",
    "                sorted_events = sorted(filtered_events, key=lambda x: x.get('timeStamp'))\n",
    "                return sorted_events\n",
    "            \n",
    "            else:\n",
    "                print(\"No se encontraron eventos con los tipos especificados en el diccionario JSON.\")\n",
    "                return None"
   ]
  },
  {
   "cell_type": "code",
   "execution_count": 166,
   "id": "daf000bf",
   "metadata": {},
   "outputs": [],
   "source": [
    "# Devuelve una lista con los fallos antes de pasar P4, cada valor de la lista es una partida\n",
    "def FirstMetric(events):\n",
    "\n",
    "    failures_before_P4 = 0\n",
    "    games = []\n",
    "    p4Passed = False\n",
    "\n",
    "    game_start = None\n",
    "    jump_start = None\n",
    "    game_end = None\n",
    "    jump_end = None\n",
    "\n",
    "    for event in events:\n",
    "        event_type = event.get('eventType')\n",
    "\n",
    "        if event_type == 'GAME_START' and game_start is None:\n",
    "            game_start = event\n",
    "\n",
    "        elif event_type == 'JUMP_START':\n",
    "\n",
    "            if game_end is not None:\n",
    "                game_start = None\n",
    "                game_end = None\n",
    "            elif jump_start is None:\n",
    "                jump_start = event\n",
    "\n",
    "        elif event_type == 'GAME_END':\n",
    "\n",
    "            game_end = event\n",
    "            game_start = None\n",
    "\n",
    "            # Si acaba una partida y ha habido al menos un fallo lo guardamos \n",
    "            if failures_before_P4 != 0:\n",
    "                games.append(failures_before_P4)\n",
    "                failures_before_P4 = 0\n",
    "                p4Passed = False\n",
    "\n",
    "        elif event_type == 'JUMP_END':\n",
    "\n",
    "            if jump_start is not None:\n",
    "                jump_end = event\n",
    "                platformIdJumpStart = int(jump_start.get('platformId'))\n",
    "                platformIdJumpEnd = int(jump_end.get('platformId'))\n",
    "\n",
    "                # Reseteamos los eventos de saltar\n",
    "                jump_start = None\n",
    "                jump_end = None\n",
    "\n",
    "                # Si ya se ha llegado a la P4 ya no se cuenta más veces en esta partida\n",
    "                if platformIdJumpEnd == 4:\n",
    "                    p4Passed = True\n",
    "                    game_start = None\n",
    "                    game_end = None\n",
    "                    continue\n",
    "\n",
    "                # Si hay fallo \n",
    "                if platformIdJumpEnd < platformIdJumpStart and p4Passed is False:\n",
    "                    failures_before_P4 += 1\n",
    "    \n",
    "    return games\n"
   ]
  },
  {
   "cell_type": "code",
   "execution_count": 167,
   "id": "98c62bb5",
   "metadata": {},
   "outputs": [],
   "source": [
    "# Devuelve una lista de arrays que contiene las veces que te has movido en cada plataforma, cada array de la lista es una partida\n",
    "def SecondMetric(events):\n",
    "    \n",
    "    movesInEachPlatform = np.zeros(numPlatforms, dtype=int)\n",
    "    games = []\n",
    "\n",
    "    game_start = None\n",
    "    game_end = None\n",
    "\n",
    "    for event in events:\n",
    "        event_type = event.get('eventType')\n",
    "        \n",
    "        if event_type == 'GAME_START' and game_start is None:\n",
    "            game_start = event\n",
    "\n",
    "        elif event_type == 'PLAYER_MOVE':\n",
    "\n",
    "            if game_end is not None:\n",
    "                game_start = None\n",
    "                game_end = None\n",
    "            else:\n",
    "                platformId = int(event.get('platformId'))\n",
    "\n",
    "                if platformId != 1:\n",
    "                    movesInEachPlatform[platformId-1] += 1\n",
    "\n",
    "\n",
    "        elif event_type == 'GAME_END':\n",
    "\n",
    "            game_end = event\n",
    "            game_start = None\n",
    "\n",
    "            # Si acaba una partida y ha habido al menos un fallo lo guardamos \n",
    "            if any(movesInEachPlatform):\n",
    "                games.append(movesInEachPlatform)\n",
    "                movesInEachPlatform = np.zeros(numPlatforms, dtype=int)\n",
    "    \n",
    "    return games"
   ]
  },
  {
   "cell_type": "code",
   "execution_count": 168,
   "id": "e2f39405",
   "metadata": {},
   "outputs": [],
   "source": [
    "def ThirdMetric(filteredEvents):\n",
    "    return 0"
   ]
  },
  {
   "cell_type": "code",
   "execution_count": 169,
   "id": "3a88a7ee",
   "metadata": {},
   "outputs": [
    {
     "name": "stdout",
     "output_type": "stream",
     "text": [
      "[]\n"
     ]
    },
    {
     "data": {
      "text/plain": [
       "[array([0, 0, 0, 0, 0, 0, 0, 0, 0, 0, 0, 4, 3, 3, 3, 3, 1, 1, 1, 4, 1, 3,\n",
       "        4, 0])]"
      ]
     },
     "metadata": {},
     "output_type": "display_data"
    },
    {
     "name": "stdout",
     "output_type": "stream",
     "text": [
      "[]\n"
     ]
    },
    {
     "data": {
      "text/plain": [
       "[array([0, 1, 0, 1, 0, 0, 0, 0, 0, 0, 0, 0, 0, 0, 0, 0, 0, 0, 0, 0, 0, 0,\n",
       "        0, 0])]"
      ]
     },
     "metadata": {},
     "output_type": "display_data"
    },
    {
     "name": "stdout",
     "output_type": "stream",
     "text": [
      "[1]\n"
     ]
    },
    {
     "data": {
      "text/plain": [
       "[]"
      ]
     },
     "metadata": {},
     "output_type": "display_data"
    }
   ],
   "source": [
    "# Por cada archivo dentro de data/\n",
    "for file in os.listdir(files_path):\n",
    "    file_path = os.path.join(files_path, file)\n",
    "\n",
    "    if os.path.isfile(file_path):\n",
    "\n",
    "        data, fileType = ReadFile(file_path)\n",
    "        \n",
    "        if fileType == None:\n",
    "            continue\n",
    "\n",
    "        i = 0\n",
    "\n",
    "        for event in eventsOfMetrics:\n",
    "            \n",
    "            filteredEvents = FilterEventsOfMetric(data, fileType, event)\n",
    "\n",
    "            if i == 0:\n",
    "                print(FirstMetric(filteredEvents))\n",
    "            if i == 1:\n",
    "                print(SecondMetric(filteredEvents))\n",
    "            else:\n",
    "                ThirdMetric(filteredEvents)\n",
    "                \n",
    "            i += 1\n"
   ]
  }
 ],
 "metadata": {
  "kernelspec": {
   "display_name": "Python 3 (ipykernel)",
   "language": "python",
   "name": "python3"
  },
  "language_info": {
   "codemirror_mode": {
    "name": "ipython",
    "version": 3
   },
   "file_extension": ".py",
   "mimetype": "text/x-python",
   "name": "python",
   "nbconvert_exporter": "python",
   "pygments_lexer": "ipython3",
   "version": "3.11.7"
  }
 },
 "nbformat": 4,
 "nbformat_minor": 5
}
