{
 "cells": [
  {
   "cell_type": "markdown",
   "id": "42f95c4a",
   "metadata": {},
   "source": [
    "# =========== ANÁLISIS DE MÉTRICAS ==========="
   ]
  },
  {
   "cell_type": "code",
   "execution_count": 107,
   "id": "47245e0c",
   "metadata": {},
   "outputs": [],
   "source": [
    "import pandas as pd\n",
    "import numpy as np\n",
    "import os\n",
    "\n",
    "files_path = \"data/\"\n",
    "\n",
    "# Eventos buscados para cada una de las metricas\n",
    "eventsOfMetrics = [[\"GAME_START\", \"GAME_END\", \"JUMP_START\", \"JUMP_END\"], \n",
    "                   [\"GAME_START\", \"GAME_END\", \"PLAYER_MOVE\", \"JUMP_END\"], \n",
    "                   [\"GAME_START\", \"GAME_END\", \"JUMP_START\", \"JUMP_END\"]\n",
    "                   ] \n",
    "\n",
    "numPlatforms = 24"
   ]
  },
  {
   "cell_type": "code",
   "execution_count": 108,
   "id": "b03f8593",
   "metadata": {},
   "outputs": [],
   "source": [
    "# Devuelve los datos leidos\n",
    "def ReadFile(archivo):\n",
    "    try:\n",
    "        # Intenta leer el archivo como JSON\n",
    "        data = pd.read_json(archivo)\n",
    "        # Devuelve una lista de diccionarios\n",
    "        return data.to_dict(orient='records')\n",
    "    except Exception as e:\n",
    "        print(f\"No se pudo leer el archivo {archivo}:\", e)\n",
    "        return None, None"
   ]
  },
  {
   "cell_type": "code",
   "execution_count": 109,
   "id": "b186ff65",
   "metadata": {},
   "outputs": [],
   "source": [
    "# Filtra los eventos que se necesitan para la metrica que se va a medir\n",
    "def FilterEventsOfMetric(data, events):\n",
    "\n",
    "    #Comprobar que es una lista de diccionarios\n",
    "    if isinstance(data, list):      \n",
    "        filtered_events = [event for event in data if event.get('eventType') in events]\n",
    "        if filtered_events:\n",
    "            sorted_events = sorted(filtered_events, key=lambda x: x.get('timeStamp'))\n",
    "            return sorted_events\n",
    "        \n",
    "        else:\n",
    "            print(\"No se encontraron eventos con los tipos especificados en el diccionario JSON.\")\n",
    "            return None\n",
    "        "
   ]
  },
  {
   "cell_type": "markdown",
   "id": "1ec49591",
   "metadata": {},
   "source": [
    "### Número de fallos hasta llegar a la P4 por primera vez. Se considera fallo cuando el pez pasa de la plataforma ‘i’ a cualquier plataforma menor que ‘i’."
   ]
  },
  {
   "cell_type": "code",
   "execution_count": 110,
   "id": "daf000bf",
   "metadata": {},
   "outputs": [],
   "source": [
    "# Devuelve una lista con los fallos antes de pasar P4, cada valor de la lista es una partida\n",
    "def FirstMetric(events):\n",
    "\n",
    "    failures_before_P4 = 0\n",
    "    games = []\n",
    "    p4Passed = False\n",
    "\n",
    "    game_start = None\n",
    "    jump_start = None\n",
    "    game_end = None\n",
    "    jump_end = None\n",
    "\n",
    "    for event in events:\n",
    "        event_type = event.get('eventType')\n",
    "\n",
    "        if event_type == 'GAME_START' and game_start is None:\n",
    "            game_start = event\n",
    "\n",
    "        elif event_type == 'JUMP_START':\n",
    "\n",
    "            if game_end is not None:\n",
    "                game_start = None\n",
    "                game_end = None\n",
    "            elif jump_start is None:\n",
    "                jump_start = event\n",
    "\n",
    "        elif event_type == 'GAME_END':\n",
    "\n",
    "            game_end = event\n",
    "            game_start = None\n",
    "\n",
    "            # Si acaba una partida y ha habido al menos un fallo lo guardamos \n",
    "            if failures_before_P4 != 0:\n",
    "                games.append(failures_before_P4)\n",
    "                failures_before_P4 = 0\n",
    "                p4Passed = False\n",
    "\n",
    "        elif event_type == 'JUMP_END':\n",
    "\n",
    "            if jump_start is not None:\n",
    "                jump_end = event\n",
    "                platformIdJumpStart = int(jump_start.get('platformId'))\n",
    "                platformIdJumpEnd = int(jump_end.get('platformId'))\n",
    "\n",
    "                # Reseteamos los eventos de saltar\n",
    "                jump_start = None\n",
    "                jump_end = None\n",
    "\n",
    "                # Si ya se ha llegado a la P4 ya no se cuenta más veces en esta partida\n",
    "                if platformIdJumpEnd >= 4:\n",
    "                    p4Passed = True\n",
    "                    game_start = None\n",
    "                    game_end = None\n",
    "                    continue\n",
    "\n",
    "                # Si hay fallo \n",
    "                if platformIdJumpEnd < platformIdJumpStart and p4Passed is False:\n",
    "                    failures_before_P4 += 1\n",
    "    \n",
    "    return games\n"
   ]
  },
  {
   "cell_type": "markdown",
   "id": "22378aa9",
   "metadata": {},
   "source": [
    "### Tasa de recolocación: plataformas en las que el usuario utiliza “WASD” para moverte al menos una vez entre las plataformas pisadas superiores a P1."
   ]
  },
  {
   "cell_type": "code",
   "execution_count": 111,
   "id": "98c62bb5",
   "metadata": {},
   "outputs": [],
   "source": [
    "# Devuelve una lista de arrays que contiene las veces que te has movido en cada plataforma, cada array de la lista es una partida\n",
    "def SecondMetric(events):\n",
    "    \n",
    "    movesInEachPlatform = []\n",
    "    games = []\n",
    "\n",
    "    game_start = None\n",
    "    game_end = None\n",
    "\n",
    "    for event in events:\n",
    "        event_type = event.get('eventType')\n",
    "        \n",
    "        if event_type == 'GAME_START' and game_start is None:\n",
    "            game_start = event\n",
    "\n",
    "        elif event_type == 'PLAYER_MOVE':\n",
    "\n",
    "            if game_end is not None:\n",
    "                game_start = None\n",
    "                game_end = None\n",
    "            else:\n",
    "                platformId = int(event.get('platformId'))\n",
    "\n",
    "                if platformId != 1:\n",
    "                    movesInEachPlatform[-1] += 1\n",
    "\n",
    "        \n",
    "        elif event_type == 'JUMP_END':\n",
    "            platformId = int(event.get('platformId'))\n",
    "\n",
    "            if platformId != 1:\n",
    "                movesInEachPlatform.append(0)\n",
    "\n",
    "\n",
    "        elif event_type == 'GAME_END':\n",
    "\n",
    "            game_end = event\n",
    "            game_start = None\n",
    "\n",
    "            # Si acaba una partida y ha habido al menos un movimiento lo guardamos \n",
    "            if any(movesInEachPlatform):\n",
    "                moves = np.count_nonzero(movesInEachPlatform)\n",
    "                games.append(moves/len(movesInEachPlatform))\n",
    "                movesInEachPlatform = []\n",
    "    \n",
    "    return games"
   ]
  },
  {
   "cell_type": "markdown",
   "id": "d72981de",
   "metadata": {},
   "source": [
    "### Número de fallos de las plataformas P4, P15 y P22 antes de superarlas por primera vez. Hemos elegido estas plataformas porque en ellas es necesario el uso de los rebotes."
   ]
  },
  {
   "cell_type": "code",
   "execution_count": 112,
   "id": "e2f39405",
   "metadata": {},
   "outputs": [],
   "source": [
    "# Devuelve una lista de eventos donde cada elemento es otra lista con 3 elementos, uno por cada plataforma a medir \n",
    "def ThirdMetric(events):\n",
    "\n",
    "    rebound_platforms = [4,15,22]\n",
    "    rebound_platforms_aux = rebound_platforms\n",
    "    failures_in_rebound_platforms = np.zeros(3)\n",
    "\n",
    "    index = 0\n",
    "\n",
    "    games = []\n",
    "\n",
    "    game_start = None\n",
    "    jump_start = None\n",
    "    game_end = None\n",
    "    jump_end = None\n",
    "\n",
    "    for event in events:\n",
    "        event_type = event.get('eventType')\n",
    "\n",
    "        if event_type == 'GAME_START' and game_start is None:\n",
    "            game_start = event\n",
    "\n",
    "        elif event_type == 'JUMP_START':\n",
    "\n",
    "            if game_end is not None:\n",
    "                game_start = None\n",
    "                game_end = None\n",
    "            elif jump_start is None:\n",
    "                jump_start = event\n",
    "\n",
    "        elif event_type == 'GAME_END':\n",
    "\n",
    "            game_end = event\n",
    "            game_start = None\n",
    "\n",
    "            #print(failures_in_rebound_platforms)\n",
    "\n",
    "            # Si acaba una partida y ha habido al menos un fallo lo guardamos \n",
    "            if any(failures_in_rebound_platforms):\n",
    "                games.append(failures_in_rebound_platforms)\n",
    "                failures_in_rebound_platforms = np.zeros(3)\n",
    "                index = 0\n",
    "                rebound_platforms = rebound_platforms_aux\n",
    "\n",
    "        elif event_type == 'JUMP_END':\n",
    "\n",
    "            if jump_start is not None:\n",
    "                jump_end = event\n",
    "                platformIdJumpStart = int(jump_start.get('platformId'))\n",
    "                platformIdJumpEnd = int(jump_end.get('platformId'))\n",
    "\n",
    "                # Reseteamos los eventos de saltar\n",
    "                jump_start = None\n",
    "                jump_end = None\n",
    "\n",
    "                for reboundPlatform in rebound_platforms:\n",
    "                    if platformIdJumpStart == reboundPlatform:\n",
    "\n",
    "                        if platformIdJumpEnd < platformIdJumpStart:\n",
    "                            failures_in_rebound_platforms[index] += 1\n",
    "                            \n",
    "                        elif platformIdJumpEnd > platformIdJumpStart:\n",
    "                            del rebound_platforms[0]\n",
    "                            index += 1\n",
    "\n",
    "                    elif platformIdJumpStart < reboundPlatform and platformIdJumpEnd > reboundPlatform:\n",
    "                            del rebound_platforms[0]\n",
    "                            index += 1\n",
    "                \n",
    "\n",
    "                #display(rebound_platforms)\n",
    "\n",
    "                if not rebound_platforms:\n",
    "                    game_start = None\n",
    "                    game_end = None\n",
    "                    continue\n",
    "\n",
    "    \n",
    "    return games"
   ]
  },
  {
   "cell_type": "code",
   "execution_count": 113,
   "id": "3a88a7ee",
   "metadata": {},
   "outputs": [
    {
     "name": "stdout",
     "output_type": "stream",
     "text": [
      "\n",
      " \n",
      "\n",
      "=========================================\n",
      " === EVENTOS DE eventsRayo.json ===\n",
      "=========================================\n",
      "\n",
      "\n",
      "=========================================================================\n",
      "1º MÉTRICA:  FALLOS ANTES DE PASAR P4 POR PRIMERA VEZ\n",
      "=========================================================================\n"
     ]
    },
    {
     "data": {
      "text/plain": [
       "[]"
      ]
     },
     "metadata": {},
     "output_type": "display_data"
    },
    {
     "name": "stdout",
     "output_type": "stream",
     "text": [
      "Descripcion del valor obtenido:\n",
      "===============================\n",
      "El siguiente valor indica cuantos fallos a tenido cada uno de los jugadores en la primera partida registrada antes de alcanzar la plataforma 4.\n",
      " La media de todos esos valores es la metrica que se muestra a continuación.\n",
      "\n",
      "\n",
      "=========================================================================\n",
      "2º MÉTRICA: TASA DE RECOLOCACIÓN\n",
      "=========================================================================\n"
     ]
    },
    {
     "data": {
      "text/plain": [
       "[0.8152173913043478,\n",
       " 0.5652173913043478,\n",
       " 0.14285714285714285,\n",
       " 0.045454545454545456,\n",
       " 0.3888888888888889,\n",
       " 0.4,\n",
       " 0.05,\n",
       " 0.09090909090909091,\n",
       " 0.2571428571428571,\n",
       " 0.14285714285714285,\n",
       " 0.08695652173913043,\n",
       " 0.34615384615384615,\n",
       " 0.38461538461538464,\n",
       " 0.125,\n",
       " 0.14285714285714285,\n",
       " 0.043478260869565216,\n",
       " 0.029411764705882353,\n",
       " 0.045454545454545456,\n",
       " 0.2608695652173913,\n",
       " 0.23076923076923078,\n",
       " 0.18181818181818182,\n",
       " 0.38461538461538464,\n",
       " 0.05714285714285714,\n",
       " 0.16666666666666666,\n",
       " 0.3333333333333333,\n",
       " 0.23076923076923078,\n",
       " 0.01694915254237288,\n",
       " 0.4,\n",
       " 0.02857142857142857,\n",
       " 0.03225806451612903,\n",
       " 0.14285714285714285,\n",
       " 0.03571428571428571,\n",
       " 0.2,\n",
       " 0.05263157894736842,\n",
       " 0.2,\n",
       " 0.09090909090909091,\n",
       " 0.125,\n",
       " 0.1,\n",
       " 0.3157894736842105,\n",
       " 0.1,\n",
       " 0.1,\n",
       " 0.15384615384615385,\n",
       " 0.027777777777777776,\n",
       " 0.1111111111111111,\n",
       " 0.058823529411764705,\n",
       " 0.15625,\n",
       " 0.14814814814814814,\n",
       " 0.043478260869565216]"
      ]
     },
     "metadata": {},
     "output_type": "display_data"
    },
    {
     "name": "stdout",
     "output_type": "stream",
     "text": [
      "Descripción del valor obtenido:\n",
      "===============================\n",
      "Media de la tasa de recolocación.  \n",
      " Se define tasa de recolocación como plataformas en las que el usuario utiliza “WASD” para moverte al menos una vez entre las plataformas pisadas superiores a P1. La tasa de recolocación se mide por partida.\n",
      "Es decir, se divide el número de veces que el jugador ha movido a su personaje en cualquier plataforma, entre el número de plataformas que ha recorrido en total en esta partida \n",
      " Por lo tanto, se obtiene un numero decimal entre 0 y 1 que muestra la cantidad de veces que este jugador ha usado el movimiento del personaje en esta partida concreta. \n",
      " La media de los valores de todas las partidas registradas es la métrica que se muestra a continuación.\n",
      "\n",
      "\n",
      "=========================================================================\n",
      "3º METRICA: NUMERO DE FALLOS ANTES DE PASAR POR PRIMERA VEZ P4, P15 y P22\n",
      "=========================================================================\n"
     ]
    },
    {
     "data": {
      "text/plain": [
       "[array([0., 1., 0.])]"
      ]
     },
     "metadata": {},
     "output_type": "display_data"
    },
    {
     "name": "stdout",
     "output_type": "stream",
     "text": [
      "Descripción del valor obtenido:\n",
      "===============================\n",
      "Media de fallos de las plataformas P4, P15 y P22 antes de superarlas por primera vez.\n",
      "Es decir, para cada una de las plataformas P4, P15 y P22, se calculan los fallos que ha tenido un jugador antes de superarlas por primera vez, con lo que se saca una media de fallos por jugador\n",
      " Cada jugador, generara entonces un valor por cada una de las tres plataformas.\n",
      " La media de los valores de todos los jugadores)\n",
      "\n",
      " \n",
      "\n",
      "=========================================\n",
      " === EVENTOS DE eventsRodri.json ===\n",
      "=========================================\n",
      "\n",
      "\n",
      "=========================================================================\n",
      "1º MÉTRICA:  FALLOS ANTES DE PASAR P4 POR PRIMERA VEZ\n",
      "=========================================================================\n"
     ]
    },
    {
     "data": {
      "text/plain": [
       "[]"
      ]
     },
     "metadata": {},
     "output_type": "display_data"
    },
    {
     "name": "stdout",
     "output_type": "stream",
     "text": [
      "Descripcion del valor obtenido:\n",
      "===============================\n",
      "El siguiente valor indica cuantos fallos a tenido cada uno de los jugadores en la primera partida registrada antes de alcanzar la plataforma 4.\n",
      " La media de todos esos valores es la metrica que se muestra a continuación.\n",
      "\n",
      "\n",
      "=========================================================================\n",
      "2º MÉTRICA: TASA DE RECOLOCACIÓN\n",
      "=========================================================================\n"
     ]
    },
    {
     "data": {
      "text/plain": [
       "[0.4528301886792453]"
      ]
     },
     "metadata": {},
     "output_type": "display_data"
    },
    {
     "name": "stdout",
     "output_type": "stream",
     "text": [
      "Descripción del valor obtenido:\n",
      "===============================\n",
      "Media de la tasa de recolocación.  \n",
      " Se define tasa de recolocación como plataformas en las que el usuario utiliza “WASD” para moverte al menos una vez entre las plataformas pisadas superiores a P1. La tasa de recolocación se mide por partida.\n",
      "Es decir, se divide el número de veces que el jugador ha movido a su personaje en cualquier plataforma, entre el número de plataformas que ha recorrido en total en esta partida \n",
      " Por lo tanto, se obtiene un numero decimal entre 0 y 1 que muestra la cantidad de veces que este jugador ha usado el movimiento del personaje en esta partida concreta. \n",
      " La media de los valores de todas las partidas registradas es la métrica que se muestra a continuación.\n",
      "\n",
      "\n",
      "=========================================================================\n",
      "3º METRICA: NUMERO DE FALLOS ANTES DE PASAR POR PRIMERA VEZ P4, P15 y P22\n",
      "=========================================================================\n"
     ]
    },
    {
     "data": {
      "text/plain": [
       "[]"
      ]
     },
     "metadata": {},
     "output_type": "display_data"
    },
    {
     "name": "stdout",
     "output_type": "stream",
     "text": [
      "Descripción del valor obtenido:\n",
      "===============================\n",
      "Media de fallos de las plataformas P4, P15 y P22 antes de superarlas por primera vez.\n",
      "Es decir, para cada una de las plataformas P4, P15 y P22, se calculan los fallos que ha tenido un jugador antes de superarlas por primera vez, con lo que se saca una media de fallos por jugador\n",
      " Cada jugador, generara entonces un valor por cada una de las tres plataformas.\n",
      " La media de los valores de todos los jugadores)\n",
      "\n",
      " \n",
      "\n",
      "=========================================\n",
      " === EVENTOS DE partidaDani.json ===\n",
      "=========================================\n",
      "\n",
      "\n",
      "=========================================================================\n",
      "1º MÉTRICA:  FALLOS ANTES DE PASAR P4 POR PRIMERA VEZ\n",
      "=========================================================================\n"
     ]
    },
    {
     "data": {
      "text/plain": [
       "[]"
      ]
     },
     "metadata": {},
     "output_type": "display_data"
    },
    {
     "name": "stdout",
     "output_type": "stream",
     "text": [
      "Descripcion del valor obtenido:\n",
      "===============================\n",
      "El siguiente valor indica cuantos fallos a tenido cada uno de los jugadores en la primera partida registrada antes de alcanzar la plataforma 4.\n",
      " La media de todos esos valores es la metrica que se muestra a continuación.\n",
      "\n",
      "\n",
      "=========================================================================\n",
      "2º MÉTRICA: TASA DE RECOLOCACIÓN\n",
      "=========================================================================\n"
     ]
    },
    {
     "data": {
      "text/plain": [
       "[0.0975609756097561]"
      ]
     },
     "metadata": {},
     "output_type": "display_data"
    },
    {
     "name": "stdout",
     "output_type": "stream",
     "text": [
      "Descripción del valor obtenido:\n",
      "===============================\n",
      "Media de la tasa de recolocación.  \n",
      " Se define tasa de recolocación como plataformas en las que el usuario utiliza “WASD” para moverte al menos una vez entre las plataformas pisadas superiores a P1. La tasa de recolocación se mide por partida.\n",
      "Es decir, se divide el número de veces que el jugador ha movido a su personaje en cualquier plataforma, entre el número de plataformas que ha recorrido en total en esta partida \n",
      " Por lo tanto, se obtiene un numero decimal entre 0 y 1 que muestra la cantidad de veces que este jugador ha usado el movimiento del personaje en esta partida concreta. \n",
      " La media de los valores de todas las partidas registradas es la métrica que se muestra a continuación.\n",
      "\n",
      "\n",
      "=========================================================================\n",
      "3º METRICA: NUMERO DE FALLOS ANTES DE PASAR POR PRIMERA VEZ P4, P15 y P22\n",
      "=========================================================================\n"
     ]
    },
    {
     "data": {
      "text/plain": [
       "[array([1., 1., 0.])]"
      ]
     },
     "metadata": {},
     "output_type": "display_data"
    },
    {
     "name": "stdout",
     "output_type": "stream",
     "text": [
      "Descripción del valor obtenido:\n",
      "===============================\n",
      "Media de fallos de las plataformas P4, P15 y P22 antes de superarlas por primera vez.\n",
      "Es decir, para cada una de las plataformas P4, P15 y P22, se calculan los fallos que ha tenido un jugador antes de superarlas por primera vez, con lo que se saca una media de fallos por jugador\n",
      " Cada jugador, generara entonces un valor por cada una de las tres plataformas.\n",
      " La media de los valores de todos los jugadores)\n",
      "\n",
      " \n",
      "\n",
      "=========================================\n",
      " === EVENTOS DE partidaDiego.json ===\n",
      "=========================================\n",
      "\n",
      "\n",
      "=========================================================================\n",
      "1º MÉTRICA:  FALLOS ANTES DE PASAR P4 POR PRIMERA VEZ\n",
      "=========================================================================\n"
     ]
    },
    {
     "data": {
      "text/plain": [
       "[]"
      ]
     },
     "metadata": {},
     "output_type": "display_data"
    },
    {
     "name": "stdout",
     "output_type": "stream",
     "text": [
      "Descripcion del valor obtenido:\n",
      "===============================\n",
      "El siguiente valor indica cuantos fallos a tenido cada uno de los jugadores en la primera partida registrada antes de alcanzar la plataforma 4.\n",
      " La media de todos esos valores es la metrica que se muestra a continuación.\n",
      "\n",
      "\n",
      "=========================================================================\n",
      "2º MÉTRICA: TASA DE RECOLOCACIÓN\n",
      "=========================================================================\n"
     ]
    },
    {
     "data": {
      "text/plain": [
       "[0.18181818181818182]"
      ]
     },
     "metadata": {},
     "output_type": "display_data"
    },
    {
     "name": "stdout",
     "output_type": "stream",
     "text": [
      "Descripción del valor obtenido:\n",
      "===============================\n",
      "Media de la tasa de recolocación.  \n",
      " Se define tasa de recolocación como plataformas en las que el usuario utiliza “WASD” para moverte al menos una vez entre las plataformas pisadas superiores a P1. La tasa de recolocación se mide por partida.\n",
      "Es decir, se divide el número de veces que el jugador ha movido a su personaje en cualquier plataforma, entre el número de plataformas que ha recorrido en total en esta partida \n",
      " Por lo tanto, se obtiene un numero decimal entre 0 y 1 que muestra la cantidad de veces que este jugador ha usado el movimiento del personaje en esta partida concreta. \n",
      " La media de los valores de todas las partidas registradas es la métrica que se muestra a continuación.\n",
      "\n",
      "\n",
      "=========================================================================\n",
      "3º METRICA: NUMERO DE FALLOS ANTES DE PASAR POR PRIMERA VEZ P4, P15 y P22\n",
      "=========================================================================\n"
     ]
    },
    {
     "data": {
      "text/plain": [
       "[]"
      ]
     },
     "metadata": {},
     "output_type": "display_data"
    },
    {
     "name": "stdout",
     "output_type": "stream",
     "text": [
      "Descripción del valor obtenido:\n",
      "===============================\n",
      "Media de fallos de las plataformas P4, P15 y P22 antes de superarlas por primera vez.\n",
      "Es decir, para cada una de las plataformas P4, P15 y P22, se calculan los fallos que ha tenido un jugador antes de superarlas por primera vez, con lo que se saca una media de fallos por jugador\n",
      " Cada jugador, generara entonces un valor por cada una de las tres plataformas.\n",
      " La media de los valores de todos los jugadores)\n",
      "\n",
      " \n",
      "\n",
      "=========================================\n",
      " === EVENTOS DE partidaDiego2.json ===\n",
      "=========================================\n",
      "\n",
      "\n",
      "=========================================================================\n",
      "1º MÉTRICA:  FALLOS ANTES DE PASAR P4 POR PRIMERA VEZ\n",
      "=========================================================================\n"
     ]
    },
    {
     "data": {
      "text/plain": [
       "[1]"
      ]
     },
     "metadata": {},
     "output_type": "display_data"
    },
    {
     "name": "stdout",
     "output_type": "stream",
     "text": [
      "Descripcion del valor obtenido:\n",
      "===============================\n",
      "El siguiente valor indica cuantos fallos a tenido cada uno de los jugadores en la primera partida registrada antes de alcanzar la plataforma 4.\n",
      " La media de todos esos valores es la metrica que se muestra a continuación.\n",
      "\n",
      "\n",
      "=========================================================================\n",
      "2º MÉTRICA: TASA DE RECOLOCACIÓN\n",
      "=========================================================================\n"
     ]
    },
    {
     "data": {
      "text/plain": [
       "[]"
      ]
     },
     "metadata": {},
     "output_type": "display_data"
    },
    {
     "name": "stdout",
     "output_type": "stream",
     "text": [
      "Descripción del valor obtenido:\n",
      "===============================\n",
      "Media de la tasa de recolocación.  \n",
      " Se define tasa de recolocación como plataformas en las que el usuario utiliza “WASD” para moverte al menos una vez entre las plataformas pisadas superiores a P1. La tasa de recolocación se mide por partida.\n",
      "Es decir, se divide el número de veces que el jugador ha movido a su personaje en cualquier plataforma, entre el número de plataformas que ha recorrido en total en esta partida \n",
      " Por lo tanto, se obtiene un numero decimal entre 0 y 1 que muestra la cantidad de veces que este jugador ha usado el movimiento del personaje en esta partida concreta. \n",
      " La media de los valores de todas las partidas registradas es la métrica que se muestra a continuación.\n",
      "\n",
      "\n",
      "=========================================================================\n",
      "3º METRICA: NUMERO DE FALLOS ANTES DE PASAR POR PRIMERA VEZ P4, P15 y P22\n",
      "=========================================================================\n"
     ]
    },
    {
     "data": {
      "text/plain": [
       "[array([1., 0., 0.])]"
      ]
     },
     "metadata": {},
     "output_type": "display_data"
    },
    {
     "name": "stdout",
     "output_type": "stream",
     "text": [
      "Descripción del valor obtenido:\n",
      "===============================\n",
      "Media de fallos de las plataformas P4, P15 y P22 antes de superarlas por primera vez.\n",
      "Es decir, para cada una de las plataformas P4, P15 y P22, se calculan los fallos que ha tenido un jugador antes de superarlas por primera vez, con lo que se saca una media de fallos por jugador\n",
      " Cada jugador, generara entonces un valor por cada una de las tres plataformas.\n",
      " La media de los valores de todos los jugadores)\n"
     ]
    }
   ],
   "source": [
    "# Por cada archivo dentro de data/\n",
    "for file in os.listdir(files_path):\n",
    "    file_path = os.path.join(files_path, file)\n",
    "\n",
    "    if os.path.isfile(file_path):\n",
    "\n",
    "        data = ReadFile(file_path)\n",
    "\n",
    "        i = 0\n",
    "\n",
    "        print(\"\\n \\n\")\n",
    "        print(\"=========================================\")\n",
    "        print(\" === EVENTOS DE \" + file + \" ===\")\n",
    "        print(\"=========================================\")\n",
    "\n",
    "\n",
    "        for event in eventsOfMetrics:\n",
    "            \n",
    "            filteredEvents = FilterEventsOfMetric(data, event)\n",
    "\n",
    "            if i == 0:\n",
    "                print(\"\\n\")\n",
    "                print(\"=========================================================================\")\n",
    "                print(\"1º MÉTRICA:  FALLOS ANTES DE PASAR P4 POR PRIMERA VEZ\")\n",
    "                print(\"=========================================================================\")\n",
    "                \n",
    "                display(FirstMetric(filteredEvents))\n",
    "\n",
    "                print(\"Descripcion del valor obtenido:\")\n",
    "                print(\"===============================\")\n",
    "                print(\"El siguiente valor indica cuantos fallos a tenido cada uno de los jugadores en la primera partida registrada antes de alcanzar la plataforma 4.\"\n",
    "                        + \"\\n La media de todos esos valores es la metrica que se muestra a continuación.\")\n",
    "\n",
    "            elif i == 1:\n",
    "                print(\"\\n\")\n",
    "                print(\"=========================================================================\")\n",
    "                print(\"2º MÉTRICA: TASA DE RECOLOCACIÓN\")\n",
    "                print(\"=========================================================================\")\n",
    "                \n",
    "                display(SecondMetric(filteredEvents))\n",
    "\n",
    "                print(\"Descripción del valor obtenido:\")\n",
    "                print(\"===============================\")\n",
    "                print(\"Media de la tasa de recolocación. \"\n",
    "                      + \" \\n Se define tasa de recolocación como plataformas en las que el usuario utiliza “WASD” para moverte al menos una vez entre las plataformas pisadas superiores a P1. La tasa de recolocación se mide por partida.\")\n",
    "                print(\"Es decir, se divide el número de veces que el jugador ha movido a su personaje en cualquier plataforma, entre el número de plataformas que ha recorrido en total en esta partida\"\n",
    "                      + \" \\n Por lo tanto, se obtiene un numero decimal entre 0 y 1 que muestra la cantidad de veces que este jugador ha usado el movimiento del personaje en esta partida concreta.\"\n",
    "                      + \" \\n La media de los valores de todas las partidas registradas es la métrica que se muestra a continuación.\")\n",
    "\n",
    "            elif i == 2:\n",
    "                print(\"\\n\")\n",
    "                print(\"=========================================================================\")\n",
    "                print(\"3º METRICA: NUMERO DE FALLOS ANTES DE PASAR POR PRIMERA VEZ P4, P15 y P22\")\n",
    "                print(\"=========================================================================\")\n",
    "\n",
    "                display(ThirdMetric(filteredEvents))\n",
    "\n",
    "                print(\"Descripción del valor obtenido:\")\n",
    "                print(\"===============================\")\n",
    "                print(\"Media de fallos de las plataformas P4, P15 y P22 antes de superarlas por primera vez.\")\n",
    "                print(\"Es decir, para cada una de las plataformas P4, P15 y P22, se calculan los fallos que ha tenido un jugador antes de superarlas por primera vez, con lo que se saca una media de fallos por jugador\"\n",
    "                      + \"\\n Cada jugador, generara entonces un valor por cada una de las tres plataformas.\"\n",
    "                        + \"\\n La media de los valores de todos los jugadores)\")\n",
    "                \n",
    "            i += 1\n"
   ]
  },
  {
   "cell_type": "code",
   "execution_count": null,
   "id": "3284b93e",
   "metadata": {},
   "outputs": [],
   "source": []
  }
 ],
 "metadata": {
  "kernelspec": {
   "display_name": "Python 3 (ipykernel)",
   "language": "python",
   "name": "python3"
  },
  "language_info": {
   "codemirror_mode": {
    "name": "ipython",
    "version": 3
   },
   "file_extension": ".py",
   "mimetype": "text/x-python",
   "name": "python",
   "nbconvert_exporter": "python",
   "pygments_lexer": "ipython3",
   "version": "3.11.4"
  }
 },
 "nbformat": 4,
 "nbformat_minor": 5
}
